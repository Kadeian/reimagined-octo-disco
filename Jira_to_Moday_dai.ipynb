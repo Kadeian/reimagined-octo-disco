{
  "nbformat": 4,
  "nbformat_minor": 0,
  "metadata": {
    "colab": {
      "provenance": [],
      "authorship_tag": "ABX9TyN0ij8Bi77srR4RFavS8XTu",
      "include_colab_link": true
    },
    "kernelspec": {
      "name": "python3",
      "display_name": "Python 3"
    },
    "language_info": {
      "name": "python"
    }
  },
  "cells": [
    {
      "cell_type": "markdown",
      "metadata": {
        "id": "view-in-github",
        "colab_type": "text"
      },
      "source": [
        "<a href=\"https://colab.research.google.com/github/Kadeian/reimagined-octo-disco/blob/master/Jira_to_Moday_dai.ipynb\" target=\"_parent\"><img src=\"https://colab.research.google.com/assets/colab-badge.svg\" alt=\"Open In Colab\"/></a>"
      ]
    },
    {
      "cell_type": "code",
      "execution_count": null,
      "metadata": {
        "colab": {
          "base_uri": "https://localhost:8080/"
        },
        "id": "MK_4WfrA_5z2",
        "outputId": "ea58e775-5fb6-49d4-ba45-f9cc102c5049"
      },
      "outputs": [
        {
          "output_type": "stream",
          "name": "stdout",
          "text": [
            "Reading package lists... Done\n",
            "Building dependency tree... Done\n",
            "Reading state information... Done\n",
            "graphviz is already the newest version (2.42.2-6ubuntu0.1).\n",
            "0 upgraded, 0 newly installed, 0 to remove and 49 not upgraded.\n",
            "Requirement already satisfied: graphviz in /usr/local/lib/python3.10/dist-packages (0.20.3)\n"
          ]
        }
      ],
      "source": [
        "!apt-get install graphviz\n",
        "!pip install graphviz\n"
      ]
    },
    {
      "cell_type": "code",
      "source": [
        "from graphviz import Digraph\n",
        "\n",
        "# Create a Digraph object\n",
        "flowchart = Digraph('Jira Workflow Process', format='png')\n",
        "\n",
        "# Central Node\n",
        "flowchart.node('Jira Workflow Process', 'Jira Workflow Process', shape='ellipse', style='filled', color='lightblue')\n",
        "\n",
        "# Step 1: Define the Project Structure\n",
        "flowchart.node('Define Project Structure', 'Define Project Structure', shape='box', style='filled', color='blue')\n",
        "flowchart.edge('Jira Workflow Process', 'Define Project Structure')\n",
        "\n",
        "# Sub-nodes for Step 1\n",
        "flowchart.node('Project Name', 'Project Name', shape='box', style='filled', color='blue')\n",
        "flowchart.node('Teams', 'Teams', shape='box', style='filled', color='blue')\n",
        "flowchart.node('Issue Types', 'Issue Types', shape='box', style='filled', color='blue')\n",
        "flowchart.edge('Define Project Structure', 'Project Name')\n",
        "flowchart.edge('Define Project Structure', 'Teams')\n",
        "flowchart.edge('Define Project Structure', 'Issue Types')\n",
        "\n",
        "# Step 2: Configure Workflows\n",
        "flowchart.node('Configure Workflows', 'Configure Workflows', shape='box', style='filled', color='green')\n",
        "flowchart.edge('Jira Workflow Process', 'Configure Workflows')\n",
        "\n",
        "# Sub-nodes for Step 2\n",
        "workflow_steps = ['Backlog', 'To Do', 'In Progress', 'Review', 'Done']\n",
        "for step in workflow_steps:\n",
        "    flowchart.node(step, step, shape='box', style='filled', color='green')\n",
        "    flowchart.edge('Configure Workflows', step)\n",
        "\n",
        "# Step 3: Create Dashboards\n",
        "flowchart.node('Create Dashboards', 'Create Dashboards', shape='box', style='filled', color='orange')\n",
        "flowchart.edge('Jira Workflow Process', 'Create Dashboards')\n",
        "\n",
        "# Sub-nodes for Step 3\n",
        "flowchart.node('Manager Dashboards', 'Manager Dashboards', shape='box', style='filled', color='orange')\n",
        "flowchart.node('Contributor Dashboards', 'Contributor Dashboards', shape='box', style='filled', color='orange')\n",
        "flowchart.edge('Create Dashboards', 'Manager Dashboards')\n",
        "flowchart.edge('Create Dashboards', 'Contributor Dashboards')\n",
        "\n",
        "# Step 4: Set Up Swim Lanes\n",
        "flowchart.node('Set Up Swim Lanes', 'Set Up Swim Lanes', shape='box', style='filled', color='purple')\n",
        "flowchart.edge('Jira Workflow Process', 'Set Up Swim Lanes')\n",
        "\n",
        "# Sub-nodes for Step 4\n",
        "flowchart.node('Team Swim Lanes', 'Team Swim Lanes', shape='box', style='filled', color='purple')\n",
        "flowchart.node('Priority Swim Lanes', 'Priority Swim Lanes', shape='box', style='filled', color='purple')\n",
        "flowchart.edge('Set Up Swim Lanes', 'Team Swim Lanes')\n",
        "flowchart.edge('Set Up Swim Lanes', 'Priority Swim Lanes')\n",
        "\n",
        "# Step 5: Filters & Permissions\n",
        "flowchart.node('Filters & Permissions', 'Filters & Permissions', shape='box', style='filled', color='red')\n",
        "flowchart.edge('Jira Workflow Process', 'Filters & Permissions')\n",
        "\n",
        "# Sub-nodes for Step 5\n",
        "flowchart.node('Filters for Managers', 'Filters for Managers', shape='box', style='filled', color='red')\n",
        "flowchart.node('Permissions for Contributors', 'Permissions for Contributors', shape='box', style='filled', color='red')\n",
        "flowchart.edge('Filters & Permissions', 'Filters for Managers')\n",
        "flowchart.edge('Filters & Permissions', 'Permissions for Contributors')\n",
        "\n",
        "# Step 6: Automate & Report\n",
        "flowchart.node('Automate & Report', 'Automate & Report', shape='box', style='filled', color='yellow')\n",
        "flowchart.edge('Jira Workflow Process', 'Automate & Report')\n",
        "\n",
        "# Sub-nodes for Step 6\n",
        "flowchart.node('Notifications', 'Notifications', shape='box', style='filled', color='yellow')\n",
        "flowchart.node('Daily/Weekly Reports', 'Daily/Weekly Reports', shape='box', style='filled', color='yellow')\n",
        "flowchart.edge('Automate & Report', 'Notifications')\n",
        "flowchart.edge('Automate & Report', 'Daily/Weekly Reports')\n",
        "\n",
        "# Step 7: Iterate & Optimize\n",
        "flowchart.node('Iterate & Optimize', 'Iterate & Optimize', shape='box', style='filled', color='teal')\n",
        "flowchart.edge('Jira Workflow Process', 'Iterate & Optimize')\n",
        "\n",
        "# Sub-nodes for Step 7\n",
        "flowchart.node('Feedback', 'Feedback', shape='box', style='filled', color='teal')\n",
        "flowchart.node('Adjust Workflows', 'Adjust Workflows', shape='box', style='filled', color='teal')\n",
        "flowchart.edge('Iterate & Optimize', 'Feedback')\n",
        "flowchart.edge('Iterate & Optimize', 'Adjust Workflows')\n",
        "\n",
        "# Render the flowchart\n",
        "flowchart.render('jira_workflow_process', view=True)\n"
      ],
      "metadata": {
        "colab": {
          "base_uri": "https://localhost:8080/",
          "height": 36
        },
        "id": "jPf2JC0JAN0c",
        "outputId": "a72dd74e-19ee-4fd1-a12a-d811efef78b8"
      },
      "execution_count": null,
      "outputs": [
        {
          "output_type": "execute_result",
          "data": {
            "text/plain": [
              "'jira_workflow_process.png'"
            ],
            "application/vnd.google.colaboratory.intrinsic+json": {
              "type": "string"
            }
          },
          "metadata": {},
          "execution_count": 4
        }
      ]
    },
    {
      "cell_type": "code",
      "source": [
        "from IPython.display import Image\n",
        "Image(filename='jira_workflow_process.png')\n"
      ],
      "metadata": {
        "colab": {
          "base_uri": "https://localhost:8080/",
          "height": 288
        },
        "id": "ST9zXAZbASZJ",
        "outputId": "a920f7af-5ac0-4e40-c18f-90ae1aaba3ff"
      },
      "execution_count": null,
      "outputs": [
        {
          "output_type": "execute_result",
          "data": {
            "image/png": "[encoded data removed]",
            "text/plain": [
              "<IPython.core.display.Image object>"
            ]
          },
          "metadata": {},
          "execution_count": 5
        }
      ]
    },
    {
      "cell_type": "code",
      "source": [
        "from google.colab import files\n",
        "files.download('jira_workflow_process.png')\n"
      ],
      "metadata": {
        "colab": {
          "base_uri": "https://localhost:8080/",
          "height": 17
        },
        "id": "5NDz4yy0Aolo",
        "outputId": "d5188663-ac17-4793-e287-6eab96ab32d5"
      },
      "execution_count": null,
      "outputs": [
        {
          "output_type": "display_data",
          "data": {
            "text/plain": [
              "<IPython.core.display.Javascript object>"
            ],
            "application/javascript": [
              "\n",
              "    async function download(id, filename, size) {\n",
              "      if (!google.colab.kernel.accessAllowed) {\n",
              "        return;\n",
              "      }\n",
              "      const div = document.createElement('div');\n",
              "      const label = document.createElement('label');\n",
              "      label.textContent = `Downloading \"${filename}\": `;\n",
              "      div.appendChild(label);\n",
              "      const progress = document.createElement('progress');\n",
              "      progress.max = size;\n",
              "      div.appendChild(progress);\n",
              "      document.body.appendChild(div);\n",
              "\n",
              "      const buffers = [];\n",
              "      let downloaded = 0;\n",
              "\n",
              "      const channel = await google.colab.kernel.comms.open(id);\n",
              "      // Send a message to notify the kernel that we're ready.\n",
              "      channel.send({})\n",
              "\n",
              "      for await (const message of channel.messages) {\n",
              "        // Send a message to notify the kernel that we're ready.\n",
              "        channel.send({})\n",
              "        if (message.buffers) {\n",
              "          for (const buffer of message.buffers) {\n",
              "            buffers.push(buffer);\n",
              "            downloaded += buffer.byteLength;\n",
              "            progress.value = downloaded;\n",
              "          }\n",
              "        }\n",
              "      }\n",
              "      const blob = new Blob(buffers, {type: 'application/binary'});\n",
              "      const a = document.createElement('a');\n",
              "      a.href = window.URL.createObjectURL(blob);\n",
              "      a.download = filename;\n",
              "      div.appendChild(a);\n",
              "      a.click();\n",
              "      div.remove();\n",
              "    }\n",
              "  "
            ]
          },
          "metadata": {}
        },
        {
          "output_type": "display_data",
          "data": {
            "text/plain": [
              "<IPython.core.display.Javascript object>"
            ],
            "application/javascript": [
              "download(\"download_aba2172e-0f90-4be2-8e55-f281073e0451\", \"jira_workflow_process.png\", 73668)"
            ]
          },
          "metadata": {}
        }
      ]
    },
    {
      "cell_type": "code",
      "source": [
        "from graphviz import Digraph\n",
        "\n",
        "# Create a Digraph object\n",
        "jira_hierarchy = Digraph('Jira Hierarchy', format='png')\n",
        "\n",
        "# Central Node: Jira Hierarchy\n",
        "jira_hierarchy.node('Jira', 'Jira Hierarchy', shape='ellipse', style='filled', color='lightblue')\n",
        "\n",
        "# Level 1: Initiatives\n",
        "jira_hierarchy.node('Initiatives', 'Initiatives\\n(Optional - Highest Level)', shape='box', style='filled', color='blue')\n",
        "jira_hierarchy.edge('Jira', 'Initiatives')\n",
        "\n",
        "# Example under Initiatives\n",
        "jira_hierarchy.node('InitiativeExample', '\"Launch a new product line.\"', shape='plaintext', color='blue')\n",
        "jira_hierarchy.edge('Initiatives', 'InitiativeExample')\n",
        "\n",
        "# Level 2: Epics\n",
        "jira_hierarchy.node('Epics', 'Epics', shape='box', style='filled', color='green')\n",
        "jira_hierarchy.edge('Initiatives', 'Epics')\n",
        "\n",
        "# Example under Epics\n",
        "jira_hierarchy.node('EpicExample', '\"Develop user authentication module.\"', shape='plaintext', color='green')\n",
        "jira_hierarchy.edge('Epics', 'EpicExample')\n",
        "\n",
        "# Level 3: Features (Optional)\n",
        "jira_hierarchy.node('Features', 'Features\\n(Optional - Mid-Level)', shape='box', style='filled', color='orange')\n",
        "jira_hierarchy.edge('Epics', 'Features')\n",
        "\n",
        "# Example under Features\n",
        "jira_hierarchy.node('FeatureExample', '\"Implement single sign-on functionality.\"', shape='plaintext', color='orange')\n",
        "jira_hierarchy.edge('Features', 'FeatureExample')\n",
        "\n",
        "# Level 4: Stories/Tasks\n",
        "jira_hierarchy.node('StoriesTasks', 'Stories/Tasks', shape='box', style='filled', color='purple')\n",
        "jira_hierarchy.edge('Features', 'StoriesTasks')\n",
        "\n",
        "# Example under Stories/Tasks\n",
        "jira_hierarchy.node('StoryExample', '\"As a user, I want to reset my password.\"', shape='plaintext', color='purple')\n",
        "jira_hierarchy.edge('StoriesTasks', 'StoryExample')\n",
        "\n",
        "jira_hierarchy.node('TaskExample', '\"Create API for password reset.\"', shape='plaintext', color='purple')\n",
        "jira_hierarchy.edge('StoriesTasks', 'TaskExample')\n",
        "\n",
        "# Level 5: Sub-Tasks\n",
        "jira_hierarchy.node('SubTasks', 'Sub-Tasks', shape='box', style='filled', color='red')\n",
        "jira_hierarchy.edge('StoriesTasks', 'SubTasks')\n",
        "\n",
        "# Example under Sub-Tasks\n",
        "jira_hierarchy.node('SubTaskExample', '\"Write database query for user validation.\"', shape='plaintext', color='red')\n",
        "jira_hierarchy.edge('SubTasks', 'SubTaskExample')\n",
        "\n",
        "# Bugs (Parallel to Stories/Tasks)\n",
        "jira_hierarchy.node('Bugs', 'Bugs\\n(Parallel to Stories/Tasks)', shape='box', style='filled', color='yellow')\n",
        "jira_hierarchy.edge('StoriesTasks', 'Bugs')\n",
        "\n",
        "# Example under Bugs\n",
        "jira_hierarchy.node('BugExample', '\"Fix login button not responsive on mobile.\"', shape='plaintext', color='yellow')\n",
        "jira_hierarchy.edge('Bugs', 'BugExample')\n",
        "\n",
        "# Epics vs Versions/Releases (Parallel Structure)\n",
        "jira_hierarchy.node('Releases', 'Versions/Releases\\n(Parallel Structure)', shape='box', style='filled', color='teal')\n",
        "jira_hierarchy.edge('Epics', 'Releases')\n",
        "\n",
        "# Example under Versions/Releases\n",
        "jira_hierarchy.node('ReleaseExample', '\"Release 1.0.0 of the app.\"', shape='plaintext', color='teal')\n",
        "jira_hierarchy.edge('Releases', 'ReleaseExample')\n",
        "\n",
        "# Render the flowchart\n",
        "jira_hierarchy.render('jira_hierarchy', view=True)\n"
      ],
      "metadata": {
        "colab": {
          "base_uri": "https://localhost:8080/",
          "height": 36
        },
        "id": "5guuO6D1AuIb",
        "outputId": "9e004680-6ee2-400c-fd8f-ff5c65e872a0"
      },
      "execution_count": null,
      "outputs": [
        {
          "output_type": "execute_result",
          "data": {
            "text/plain": [
              "'jira_hierarchy.png'"
            ],
            "application/vnd.google.colaboratory.intrinsic+json": {
              "type": "string"
            }
          },
          "metadata": {},
          "execution_count": 7
        }
      ]
    },
    {
      "cell_type": "code",
      "source": [
        "from google.colab import files\n",
        "files.download('jira_hierarchy.png')\n"
      ],
      "metadata": {
        "colab": {
          "base_uri": "https://localhost:8080/",
          "height": 17
        },
        "id": "HbFXf2J6CAPQ",
        "outputId": "a2bf9829-b98b-4987-ee5e-a45b26edef18"
      },
      "execution_count": null,
      "outputs": [
        {
          "output_type": "display_data",
          "data": {
            "text/plain": [
              "<IPython.core.display.Javascript object>"
            ],
            "application/javascript": [
              "\n",
              "    async function download(id, filename, size) {\n",
              "      if (!google.colab.kernel.accessAllowed) {\n",
              "        return;\n",
              "      }\n",
              "      const div = document.createElement('div');\n",
              "      const label = document.createElement('label');\n",
              "      label.textContent = `Downloading \"${filename}\": `;\n",
              "      div.appendChild(label);\n",
              "      const progress = document.createElement('progress');\n",
              "      progress.max = size;\n",
              "      div.appendChild(progress);\n",
              "      document.body.appendChild(div);\n",
              "\n",
              "      const buffers = [];\n",
              "      let downloaded = 0;\n",
              "\n",
              "      const channel = await google.colab.kernel.comms.open(id);\n",
              "      // Send a message to notify the kernel that we're ready.\n",
              "      channel.send({})\n",
              "\n",
              "      for await (const message of channel.messages) {\n",
              "        // Send a message to notify the kernel that we're ready.\n",
              "        channel.send({})\n",
              "        if (message.buffers) {\n",
              "          for (const buffer of message.buffers) {\n",
              "            buffers.push(buffer);\n",
              "            downloaded += buffer.byteLength;\n",
              "            progress.value = downloaded;\n",
              "          }\n",
              "        }\n",
              "      }\n",
              "      const blob = new Blob(buffers, {type: 'application/binary'});\n",
              "      const a = document.createElement('a');\n",
              "      a.href = window.URL.createObjectURL(blob);\n",
              "      a.download = filename;\n",
              "      div.appendChild(a);\n",
              "      a.click();\n",
              "      div.remove();\n",
              "    }\n",
              "  "
            ]
          },
          "metadata": {}
        },
        {
          "output_type": "display_data",
          "data": {
            "text/plain": [
              "<IPython.core.display.Javascript object>"
            ],
            "application/javascript": [
              "download(\"download_1ce7b32f-5996-4f48-beb2-a93ed0c540ab\", \"jira_hierarchy.png\", 65074)"
            ]
          },
          "metadata": {}
        }
      ]
    },
    {
      "cell_type": "code",
      "source": [
        "from graphviz import Digraph\n",
        "\n",
        "# Create a Digraph object\n",
        "jira_flow = Digraph('Lions Club Workflow', format='png')\n",
        "\n",
        "# Initiative Level\n",
        "jira_flow.node('Initiative', 'Lions Club Pancake Drive Project', shape='ellipse', style='filled', color='lightblue')\n",
        "\n",
        "# Epics\n",
        "jira_flow.node('BI', 'Business Intelligence (BI)', shape='box', style='filled', color='blue')\n",
        "jira_flow.node('DS', 'Data Services', shape='box', style='filled', color='green')\n",
        "jira_flow.edge('Initiative', 'BI')\n",
        "jira_flow.edge('Initiative', 'DS')\n",
        "\n",
        "# Stories under BI\n",
        "jira_flow.node('MixPancake', 'Prepare Pancake Mixture', shape='box', style='filled', color='purple')\n",
        "jira_flow.node('InventoryProteins', 'Inventory All Proteins', shape='box', style='filled', color='purple')\n",
        "jira_flow.edge('BI', 'MixPancake')\n",
        "jira_flow.edge('BI', 'InventoryProteins')\n",
        "\n",
        "# Sub-Tasks under BI Stories\n",
        "jira_flow.node('DianaTask', 'Diana: Mix Ingredients', shape='plaintext')\n",
        "jira_flow.node('JoshTask', 'Josh: Fill Syrup Bottles', shape='plaintext')\n",
        "jira_flow.node('MarioTask', 'Mario: Prep Griddle', shape='plaintext')\n",
        "jira_flow.edge('MixPancake', 'DianaTask')\n",
        "jira_flow.edge('MixPancake', 'JoshTask')\n",
        "jira_flow.edge('MixPancake', 'MarioTask')\n",
        "\n",
        "# Stories under DS\n",
        "jira_flow.node('HeatButter', 'Heat Butter and Prep Griddle', shape='box', style='filled', color='orange')\n",
        "jira_flow.node('PortionDough', 'Portion Dough for Biscuits', shape='box', style='filled', color='orange')\n",
        "jira_flow.edge('DS', 'HeatButter')\n",
        "jira_flow.edge('DS', 'PortionDough')\n",
        "\n",
        "# Sub-Tasks under DS Stories\n",
        "jira_flow.node('PatrickTask', 'Patrick: Heat Butter', shape='plaintext')\n",
        "jira_flow.node('MindyTask', 'Mindy: Wipe Counters', shape='plaintext')\n",
        "jira_flow.edge('HeatButter', 'PatrickTask')\n",
        "jira_flow.edge('HeatButter', 'MindyTask')\n",
        "\n",
        "# Dependencies\n",
        "jira_flow.edge('MarioTask', 'PatrickTask', label='Depends On', style='dashed')\n",
        "\n",
        "# Render the diagram\n",
        "jira_flow.render('jira_lions_club_workflow', view=True)\n"
      ],
      "metadata": {
        "colab": {
          "base_uri": "https://localhost:8080/",
          "height": 36
        },
        "id": "-8GjtLGMHKHk",
        "outputId": "d0397081-abb6-4932-d790-8d4f08bba4e7"
      },
      "execution_count": null,
      "outputs": [
        {
          "output_type": "execute_result",
          "data": {
            "text/plain": [
              "'jira_lions_club_workflow.png'"
            ],
            "application/vnd.google.colaboratory.intrinsic+json": {
              "type": "string"
            }
          },
          "metadata": {},
          "execution_count": 10
        }
      ]
    },
    {
      "cell_type": "code",
      "source": [
        "from google.colab import files\n",
        "files.download('jira_lions_club_workflow.png')"
      ],
      "metadata": {
        "colab": {
          "base_uri": "https://localhost:8080/",
          "height": 17
        },
        "id": "jVYdJsMQHLE9",
        "outputId": "e3000bd6-2b8d-4aef-d30b-dd774d352c49"
      },
      "execution_count": null,
      "outputs": [
        {
          "output_type": "display_data",
          "data": {
            "text/plain": [
              "<IPython.core.display.Javascript object>"
            ],
            "application/javascript": [
              "\n",
              "    async function download(id, filename, size) {\n",
              "      if (!google.colab.kernel.accessAllowed) {\n",
              "        return;\n",
              "      }\n",
              "      const div = document.createElement('div');\n",
              "      const label = document.createElement('label');\n",
              "      label.textContent = `Downloading \"${filename}\": `;\n",
              "      div.appendChild(label);\n",
              "      const progress = document.createElement('progress');\n",
              "      progress.max = size;\n",
              "      div.appendChild(progress);\n",
              "      document.body.appendChild(div);\n",
              "\n",
              "      const buffers = [];\n",
              "      let downloaded = 0;\n",
              "\n",
              "      const channel = await google.colab.kernel.comms.open(id);\n",
              "      // Send a message to notify the kernel that we're ready.\n",
              "      channel.send({})\n",
              "\n",
              "      for await (const message of channel.messages) {\n",
              "        // Send a message to notify the kernel that we're ready.\n",
              "        channel.send({})\n",
              "        if (message.buffers) {\n",
              "          for (const buffer of message.buffers) {\n",
              "            buffers.push(buffer);\n",
              "            downloaded += buffer.byteLength;\n",
              "            progress.value = downloaded;\n",
              "          }\n",
              "        }\n",
              "      }\n",
              "      const blob = new Blob(buffers, {type: 'application/binary'});\n",
              "      const a = document.createElement('a');\n",
              "      a.href = window.URL.createObjectURL(blob);\n",
              "      a.download = filename;\n",
              "      div.appendChild(a);\n",
              "      a.click();\n",
              "      div.remove();\n",
              "    }\n",
              "  "
            ]
          },
          "metadata": {}
        },
        {
          "output_type": "display_data",
          "data": {
            "text/plain": [
              "<IPython.core.display.Javascript object>"
            ],
            "application/javascript": [
              "download(\"download_942227b5-1ca6-4c7d-992e-820a6d4dc151\", \"jira_lions_club_workflow.png\", 47873)"
            ]
          },
          "metadata": {}
        }
      ]
    },
    {
      "cell_type": "code",
      "source": [
        "from graphviz import Digraph\n",
        "\n",
        "# Create a Digraph object\n",
        "jira_flow = Digraph('Lions Club Workflow', format='png')\n",
        "\n",
        "# Initiative Level\n",
        "jira_flow.node('Initiative', 'Lions Club Pancake Drive Project', shape='ellipse', style='filled', color='lightblue')\n",
        "\n",
        "# Epics\n",
        "jira_flow.node('BI', 'Business Intelligence (BI)', shape='box', style='filled', color='blue')\n",
        "jira_flow.node('DS', 'Data Services', shape='box', style='filled', color='green')\n",
        "jira_flow.edge('Initiative', 'BI')\n",
        "jira_flow.edge('Initiative', 'DS')\n",
        "\n",
        "# Stories under BI\n",
        "jira_flow.node('MixPancake', 'Prepare Pancake Mixture', shape='box', style='filled', color='purple')\n",
        "jira_flow.node('InventoryProteins', 'Inventory All Proteins', shape='box', style='filled', color='purple')\n",
        "jira_flow.edge('BI', 'MixPancake')\n",
        "jira_flow.edge('BI', 'InventoryProteins')\n",
        "\n",
        "# Sub-Tasks under BI Stories\n",
        "jira_flow.node('DianaTask', 'Diana: Mix Ingredients', shape='plaintext')\n",
        "jira_flow.node('JoshTask', 'Josh: Fill Syrup Bottles', shape='plaintext')\n",
        "jira_flow.node('MarioTask', 'Mario: Prep Griddle', shape='plaintext')\n",
        "jira_flow.edge('MixPancake', 'DianaTask')\n",
        "jira_flow.edge('MixPancake', 'JoshTask')\n",
        "jira_flow.edge('MixPancake', 'MarioTask')\n",
        "\n",
        "# Stories under DS\n",
        "jira_flow.node('HeatButter', 'Heat Butter and Prep Griddle', shape='box', style='filled', color='orange')\n",
        "jira_flow.node('PortionDough', 'Portion Dough for Biscuits', shape='box', style='filled', color='orange')\n",
        "jira_flow.edge('DS', 'HeatButter')\n",
        "jira_flow.edge('DS', 'PortionDough')\n",
        "\n",
        "# Sub-Tasks under DS Stories\n",
        "jira_flow.node('PatrickTask', 'Patrick: Heat Butter', shape='plaintext')\n",
        "jira_flow.node('MindyTask', 'Mindy: Wipe Counters', shape='plaintext')\n",
        "jira_flow.edge('HeatButter', 'PatrickTask')\n",
        "jira_flow.edge('HeatButter', 'MindyTask')\n",
        "\n",
        "# Dependencies\n",
        "jira_flow.edge('MarioTask', 'PatrickTask', label='Depends On', style='dashed')\n",
        "\n",
        "# Render the diagram\n",
        "jira_flow.render('jira_lions_club_workflow', view=True)\n"
      ],
      "metadata": {
        "colab": {
          "base_uri": "https://localhost:8080/",
          "height": 36
        },
        "id": "x3oUhh3SHSRD",
        "outputId": "73424e26-4352-48f9-dc69-d10a0d183358"
      },
      "execution_count": null,
      "outputs": [
        {
          "output_type": "execute_result",
          "data": {
            "text/plain": [
              "'jira_lions_club_workflow.png'"
            ],
            "application/vnd.google.colaboratory.intrinsic+json": {
              "type": "string"
            }
          },
          "metadata": {},
          "execution_count": 12
        }
      ]
    },
    {
      "cell_type": "code",
      "source": [
        "from google.colab import files\n",
        "files.download('jira_lions_club_workflow.png')"
      ],
      "metadata": {
        "colab": {
          "base_uri": "https://localhost:8080/",
          "height": 17
        },
        "id": "Da04qnrGHd-r",
        "outputId": "31ea172e-7b3e-408e-d7bf-cfd8b81643cf"
      },
      "execution_count": null,
      "outputs": [
        {
          "output_type": "display_data",
          "data": {
            "text/plain": [
              "<IPython.core.display.Javascript object>"
            ],
            "application/javascript": [
              "\n",
              "    async function download(id, filename, size) {\n",
              "      if (!google.colab.kernel.accessAllowed) {\n",
              "        return;\n",
              "      }\n",
              "      const div = document.createElement('div');\n",
              "      const label = document.createElement('label');\n",
              "      label.textContent = `Downloading \"${filename}\": `;\n",
              "      div.appendChild(label);\n",
              "      const progress = document.createElement('progress');\n",
              "      progress.max = size;\n",
              "      div.appendChild(progress);\n",
              "      document.body.appendChild(div);\n",
              "\n",
              "      const buffers = [];\n",
              "      let downloaded = 0;\n",
              "\n",
              "      const channel = await google.colab.kernel.comms.open(id);\n",
              "      // Send a message to notify the kernel that we're ready.\n",
              "      channel.send({})\n",
              "\n",
              "      for await (const message of channel.messages) {\n",
              "        // Send a message to notify the kernel that we're ready.\n",
              "        channel.send({})\n",
              "        if (message.buffers) {\n",
              "          for (const buffer of message.buffers) {\n",
              "            buffers.push(buffer);\n",
              "            downloaded += buffer.byteLength;\n",
              "            progress.value = downloaded;\n",
              "          }\n",
              "        }\n",
              "      }\n",
              "      const blob = new Blob(buffers, {type: 'application/binary'});\n",
              "      const a = document.createElement('a');\n",
              "      a.href = window.URL.createObjectURL(blob);\n",
              "      a.download = filename;\n",
              "      div.appendChild(a);\n",
              "      a.click();\n",
              "      div.remove();\n",
              "    }\n",
              "  "
            ]
          },
          "metadata": {}
        },
        {
          "output_type": "display_data",
          "data": {
            "text/plain": [
              "<IPython.core.display.Javascript object>"
            ],
            "application/javascript": [
              "download(\"download_0a1ddde4-e81b-47ba-ba83-eff68a5d0c8b\", \"jira_lions_club_workflow.png\", 47873)"
            ]
          },
          "metadata": {}
        }
      ]
    },
    {
      "cell_type": "code",
      "source": [
        "from graphviz import Digraph\n",
        "\n",
        "# Create a Digraph object\n",
        "jira_flow = Digraph('Lions Club Workflow', format='png')\n",
        "\n",
        "# Initiative Level\n",
        "jira_flow.node('Initiative', 'Lions Club Pancake Drive Project', shape='ellipse', style='filled', color='lightblue')\n",
        "\n",
        "# Epics\n",
        "jira_flow.node('BI', 'Business Intelligence (BI)', shape='box', style='filled', color='blue')\n",
        "jira_flow.node('DS', 'Data Services', shape='box', style='filled', color='green')\n",
        "jira_flow.edge('Initiative', 'BI')\n",
        "jira_flow.edge('Initiative', 'DS')\n",
        "\n",
        "# Stories under BI\n",
        "jira_flow.node('MixPancake', 'Prepare Pancake Mixture', shape='box', style='filled', color='purple')\n",
        "jira_flow.node('InventoryProteins', 'Inventory All Proteins', shape='box', style='filled', color='purple')\n",
        "jira_flow.edge('BI', 'MixPancake')\n",
        "jira_flow.edge('BI', 'InventoryProteins')\n",
        "\n",
        "# Sub-Tasks under BI Stories\n",
        "jira_flow.node('DianaTask', 'Diana: Mix Ingredients', shape='plaintext')\n",
        "jira_flow.node('JoshTask', 'Josh: Fill Syrup Bottles', shape='plaintext')\n",
        "jira_flow.node('MarioTask', 'Mario: Prep Griddle', shape='plaintext')\n",
        "jira_flow.edge('MixPancake', 'DianaTask')\n",
        "jira_flow.edge('MixPancake', 'JoshTask')\n",
        "jira_flow.edge('MixPancake', 'MarioTask')\n",
        "\n",
        "# Stories under DS\n",
        "jira_flow.node('HeatButter', 'Heat Butter and Prep Griddle', shape='box', style='filled', color='orange')\n",
        "jira_flow.node('PortionDough', 'Portion Dough for Biscuits', shape='box', style='filled', color='orange')\n",
        "jira_flow.edge('DS', 'HeatButter')\n",
        "jira_flow.edge('DS', 'PortionDough')\n",
        "\n",
        "# Sub-Tasks under DS Stories\n",
        "jira_flow.node('PatrickTask', 'Patrick: Heat Butter', shape='plaintext')\n",
        "jira_flow.node('MindyTask', 'Mindy: Wipe Counters', shape='plaintext')\n",
        "jira_flow.edge('HeatButter', 'PatrickTask')\n",
        "jira_flow.edge('HeatButter', 'MindyTask')\n",
        "\n",
        "# Dependencies\n",
        "jira_flow.edge('MarioTask', 'PatrickTask', label='Depends On', style='dashed')\n",
        "\n",
        "# Add a Legend\n",
        "jira_flow.node('Legend', 'Key:\\n'\n",
        "                         'Ellipse: Initiative (Highest Level)\\n'\n",
        "                         'Blue Box: Business Intelligence Epic\\n'\n",
        "                         'Green Box: Data Services Epic\\n'\n",
        "                         'Purple Box: BI Stories\\n'\n",
        "                         'Orange Box: Data Services Stories\\n'\n",
        "                         'Plain Text: Sub-Tasks\\n'\n",
        "                         'Dashed Arrow: Dependency',\n",
        "               shape='note', color='black', fontcolor='black', style='filled', fillcolor='white')\n",
        "\n",
        "jira_flow.edge('Legend', 'Initiative', style='invis')  # Add invis edge for positioning\n",
        "\n",
        "# Render the diagram\n",
        "jira_flow.render('jira_lions_club_workflow_with_legend', view=True)\n"
      ],
      "metadata": {
        "colab": {
          "base_uri": "https://localhost:8080/",
          "height": 36
        },
        "id": "k-XNBF2QHjjF",
        "outputId": "d17df87f-9e5f-49a8-8316-619881d6b4ea"
      },
      "execution_count": null,
      "outputs": [
        {
          "output_type": "execute_result",
          "data": {
            "text/plain": [
              "'jira_lions_club_workflow_with_legend.png'"
            ],
            "application/vnd.google.colaboratory.intrinsic+json": {
              "type": "string"
            }
          },
          "metadata": {},
          "execution_count": 14
        }
      ]
    },
    {
      "cell_type": "code",
      "source": [
        "from google.colab import files\n",
        "files.download('jira_lions_club_workflow_with_legend.png')"
      ],
      "metadata": {
        "colab": {
          "base_uri": "https://localhost:8080/",
          "height": 17
        },
        "id": "ZRQh-POwIK_U",
        "outputId": "25fc69cd-4f02-483b-9621-cfa2fd5603f4"
      },
      "execution_count": null,
      "outputs": [
        {
          "output_type": "display_data",
          "data": {
            "text/plain": [
              "<IPython.core.display.Javascript object>"
            ],
            "application/javascript": [
              "\n",
              "    async function download(id, filename, size) {\n",
              "      if (!google.colab.kernel.accessAllowed) {\n",
              "        return;\n",
              "      }\n",
              "      const div = document.createElement('div');\n",
              "      const label = document.createElement('label');\n",
              "      label.textContent = `Downloading \"${filename}\": `;\n",
              "      div.appendChild(label);\n",
              "      const progress = document.createElement('progress');\n",
              "      progress.max = size;\n",
              "      div.appendChild(progress);\n",
              "      document.body.appendChild(div);\n",
              "\n",
              "      const buffers = [];\n",
              "      let downloaded = 0;\n",
              "\n",
              "      const channel = await google.colab.kernel.comms.open(id);\n",
              "      // Send a message to notify the kernel that we're ready.\n",
              "      channel.send({})\n",
              "\n",
              "      for await (const message of channel.messages) {\n",
              "        // Send a message to notify the kernel that we're ready.\n",
              "        channel.send({})\n",
              "        if (message.buffers) {\n",
              "          for (const buffer of message.buffers) {\n",
              "            buffers.push(buffer);\n",
              "            downloaded += buffer.byteLength;\n",
              "            progress.value = downloaded;\n",
              "          }\n",
              "        }\n",
              "      }\n",
              "      const blob = new Blob(buffers, {type: 'application/binary'});\n",
              "      const a = document.createElement('a');\n",
              "      a.href = window.URL.createObjectURL(blob);\n",
              "      a.download = filename;\n",
              "      div.appendChild(a);\n",
              "      a.click();\n",
              "      div.remove();\n",
              "    }\n",
              "  "
            ]
          },
          "metadata": {}
        },
        {
          "output_type": "display_data",
          "data": {
            "text/plain": [
              "<IPython.core.display.Javascript object>"
            ],
            "application/javascript": [
              "download(\"download_b1ebc910-d738-4a8b-a10d-c3378aa39e78\", \"jira_lions_club_workflow_with_legend.png\", 73092)"
            ]
          },
          "metadata": {}
        }
      ]
    },
    {
      "cell_type": "code",
      "source": [
        "from graphviz import Digraph\n",
        "\n",
        "# Create a new graph object\n",
        "diagram = Digraph('PancakeDrive', format='png')\n",
        "\n",
        "# Define central node (Initiative)\n",
        "diagram.node('Initiative', 'Lions Club Pancake Drive Project\\n(Initiative)', shape='ellipse', style='filled', color='lightblue', fontcolor='black')\n",
        "\n",
        "# Define Epics\n",
        "diagram.node('BI', 'Business Intelligence (BI)\\n(Epic)', shape='box', style='filled', color='blue', fontcolor='white')\n",
        "diagram.node('DS', 'Data Services\\n(Epic)', shape='box', style='filled', color='green', fontcolor='white')\n",
        "\n",
        "# Connect Initiative to Epics\n",
        "diagram.edge('Initiative', 'BI')\n",
        "diagram.edge('Initiative', 'DS')\n",
        "\n",
        "# Define Stories under BI\n",
        "diagram.node('PreparePancake', '< <b>Prepare Pancake Mixture</b><br/>(Story) >', shape='box', style='filled', color='purple', fontcolor='white')\n",
        "diagram.node('InventoryProteins', '< <b>Inventory All Proteins</b><br/>(Story) >', shape='box', style='filled', color='purple', fontcolor='white')\n",
        "\n",
        "# Connect BI to Stories\n",
        "diagram.edge('BI', 'PreparePancake')\n",
        "diagram.edge('BI', 'InventoryProteins')\n",
        "\n",
        "# Define Sub-Tasks under BI Stories\n",
        "diagram.node('Diana', 'Diana:\\nMix Ingredients\\n(Sub-Task)', shape='plaintext', fontcolor='black')\n",
        "diagram.node('Josh', 'Josh:\\nFill Syrup Bottles\\n(Sub-Task)', shape='plaintext', fontcolor='black')\n",
        "diagram.node('Mario', 'Mario:\\nPrep Griddle\\n(Sub-Task)', shape='plaintext', fontcolor='black')\n",
        "\n",
        "# Connect Prepare Pancake Mixture to Sub-Tasks\n",
        "diagram.edge('PreparePancake', 'Diana')\n",
        "diagram.edge('PreparePancake', 'Josh')\n",
        "diagram.edge('PreparePancake', 'Mario')\n",
        "\n",
        "# Define Stories under DS\n",
        "diagram.node('HeatButter', '< <b>Heat Butter and Prep Griddle</b><br/>(Story) >', shape='box', style='filled', color='orange', fontcolor='white')\n",
        "diagram.node('PortionDough', '< <b>Portion Dough for Biscuits</b><br/>(Story) >', shape='box', style='filled', color='orange', fontcolor='white')\n",
        "\n",
        "# Connect DS to Stories\n",
        "diagram.edge('DS', 'HeatButter')\n",
        "diagram.edge('DS', 'PortionDough')\n",
        "\n",
        "# Define Sub-Tasks under DS Stories\n",
        "diagram.node('Patrick', 'Patrick:\\nHeat Butter\\n(Sub-Task)', shape='plaintext', fontcolor='black')\n",
        "diagram.node('Mindy', 'Mindy:\\nWipe Counters\\n(Sub-Task)', shape='plaintext', fontcolor='black')\n",
        "\n",
        "# Connect Heat Butter and Prep Griddle to Sub-Tasks\n",
        "diagram.edge('HeatButter', 'Patrick')\n",
        "diagram.edge('HeatButter', 'Mindy')\n",
        "\n",
        "# Define Workflow Example\n",
        "diagram.node('Workflow', '< <b>Jira Workflow Stages</b><br/>Backlog → To Do → In Progress → Review → Done >', shape='box', style='filled', color='lightgray', fontcolor='black')\n",
        "\n",
        "# Connect Initiative to Workflow\n",
        "diagram.edge('Initiative', 'Workflow')\n",
        "\n",
        "# Define Dashboard Examples\n",
        "diagram.node('ManagerDashboard', '< <b>Manager Dashboards</b><br/>Team-specific breakdowns, progress, workload, roadblocks>', shape='box', style='filled', color='pink', fontcolor='black')\n",
        "diagram.node('ContributorDashboard', '< <b>Contributor Dashboards</b><br/>Assigned tasks, priorities, dependencies>', shape='box', style='filled', color='pink', fontcolor='black')\n",
        "\n",
        "# Connect Initiative to Dashboards\n",
        "diagram.edge('Initiative', 'ManagerDashboard')\n",
        "diagram.edge('Initiative', 'ContributorDashboard')\n",
        "\n",
        "# Define Swim Lanes\n",
        "diagram.node('SwimLanes', '< <b>Swim Lanes</b><br/>Team, Priority, Assignee>', shape='box', style='filled', color='cyan', fontcolor='black')\n",
        "diagram.edge('Initiative', 'SwimLanes')\n",
        "\n",
        "# Define Filters and Permissions\n",
        "diagram.node('Filters', '< <b>Filters</b><br/>Manager and Contributor Views>', shape='box', style='filled', color='yellow', fontcolor='black')\n",
        "diagram.node('Permissions', '< <b>Permissions</b><br/>Manage vs. View Access>', shape='box', style='filled', color='yellow', fontcolor='black')\n",
        "\n",
        "# Connect Initiative to Filters and Permissions\n",
        "diagram.edge('Initiative', 'Filters')\n",
        "diagram.edge('Initiative', 'Permissions')\n",
        "\n",
        "# Define Notifications and Reports\n",
        "diagram.node('Notifications', '< <b>Notifications</b><br/>Task updates, blockers, daily/weekly reports>', shape='box', style='filled', color='lightgreen', fontcolor='black')\n",
        "diagram.edge('Initiative', 'Notifications')\n",
        "\n",
        "# Define Iteration and Optimization\n",
        "diagram.node('Iteration', '< <b>Iterate and Optimize</b><br/>Review, Feedback, Adjust Workflows>', shape='box', style='filled', color='teal', fontcolor='black')\n",
        "diagram.edge('Initiative', 'Iteration')\n",
        "\n",
        "# Render the diagram\n",
        "diagram.render('pancake_drive_workflow', view=True)\n"
      ],
      "metadata": {
        "colab": {
          "base_uri": "https://localhost:8080/",
          "height": 36
        },
        "id": "rqbpza7AIQFO",
        "outputId": "face1ff1-2cea-408b-ae00-f955905964e7"
      },
      "execution_count": null,
      "outputs": [
        {
          "output_type": "execute_result",
          "data": {
            "text/plain": [
              "'pancake_drive_workflow.png'"
            ],
            "application/vnd.google.colaboratory.intrinsic+json": {
              "type": "string"
            }
          },
          "metadata": {},
          "execution_count": 16
        }
      ]
    },
    {
      "cell_type": "code",
      "source": [
        "from google.colab import files\n",
        "files.download('pancake_drive_workflow', view=True)"
      ],
      "metadata": {
        "colab": {
          "base_uri": "https://localhost:8080/",
          "height": 164
        },
        "id": "T8AKke_2MNGq",
        "outputId": "12b9e536-9845-48a7-dfd9-e59a42026887"
      },
      "execution_count": null,
      "outputs": [
        {
          "output_type": "error",
          "ename": "TypeError",
          "evalue": "download() got an unexpected keyword argument 'view'",
          "traceback": [
            "\u001b[0;31m---------------------------------------------------------------------------\u001b[0m",
            "\u001b[0;31mTypeError\u001b[0m                                 Traceback (most recent call last)",
            "\u001b[0;32m<ipython-input-18-72fdc1731485>\u001b[0m in \u001b[0;36m<cell line: 2>\u001b[0;34m()\u001b[0m\n\u001b[1;32m      1\u001b[0m \u001b[0;32mfrom\u001b[0m \u001b[0mgoogle\u001b[0m\u001b[0;34m.\u001b[0m\u001b[0mcolab\u001b[0m \u001b[0;32mimport\u001b[0m \u001b[0mfiles\u001b[0m\u001b[0;34m\u001b[0m\u001b[0;34m\u001b[0m\u001b[0m\n\u001b[0;32m----> 2\u001b[0;31m \u001b[0mfiles\u001b[0m\u001b[0;34m.\u001b[0m\u001b[0mdownload\u001b[0m\u001b[0;34m(\u001b[0m\u001b[0;34m'pancake_drive_workflow'\u001b[0m\u001b[0;34m,\u001b[0m \u001b[0mview\u001b[0m\u001b[0;34m=\u001b[0m\u001b[0;32mTrue\u001b[0m\u001b[0;34m)\u001b[0m\u001b[0;34m\u001b[0m\u001b[0;34m\u001b[0m\u001b[0m\n\u001b[0m",
            "\u001b[0;31mTypeError\u001b[0m: download() got an unexpected keyword argument 'view'"
          ]
        }
      ]
    },
    {
      "cell_type": "code",
      "source": [
        "from google.colab import files\n",
        "files.download('pancake_drive_workflow.png')"
      ],
      "metadata": {
        "colab": {
          "base_uri": "https://localhost:8080/",
          "height": 17
        },
        "id": "xKNhxGTsMTTQ",
        "outputId": "84281e1c-9c0e-4b6b-963d-d6c17e1c7db3"
      },
      "execution_count": null,
      "outputs": [
        {
          "output_type": "display_data",
          "data": {
            "text/plain": [
              "<IPython.core.display.Javascript object>"
            ],
            "application/javascript": [
              "\n",
              "    async function download(id, filename, size) {\n",
              "      if (!google.colab.kernel.accessAllowed) {\n",
              "        return;\n",
              "      }\n",
              "      const div = document.createElement('div');\n",
              "      const label = document.createElement('label');\n",
              "      label.textContent = `Downloading \"${filename}\": `;\n",
              "      div.appendChild(label);\n",
              "      const progress = document.createElement('progress');\n",
              "      progress.max = size;\n",
              "      div.appendChild(progress);\n",
              "      document.body.appendChild(div);\n",
              "\n",
              "      const buffers = [];\n",
              "      let downloaded = 0;\n",
              "\n",
              "      const channel = await google.colab.kernel.comms.open(id);\n",
              "      // Send a message to notify the kernel that we're ready.\n",
              "      channel.send({})\n",
              "\n",
              "      for await (const message of channel.messages) {\n",
              "        // Send a message to notify the kernel that we're ready.\n",
              "        channel.send({})\n",
              "        if (message.buffers) {\n",
              "          for (const buffer of message.buffers) {\n",
              "            buffers.push(buffer);\n",
              "            downloaded += buffer.byteLength;\n",
              "            progress.value = downloaded;\n",
              "          }\n",
              "        }\n",
              "      }\n",
              "      const blob = new Blob(buffers, {type: 'application/binary'});\n",
              "      const a = document.createElement('a');\n",
              "      a.href = window.URL.createObjectURL(blob);\n",
              "      a.download = filename;\n",
              "      div.appendChild(a);\n",
              "      a.click();\n",
              "      div.remove();\n",
              "    }\n",
              "  "
            ]
          },
          "metadata": {}
        },
        {
          "output_type": "display_data",
          "data": {
            "text/plain": [
              "<IPython.core.display.Javascript object>"
            ],
            "application/javascript": [
              "download(\"download_0ccce72d-9a94-43e5-a71c-4cd4b7d41a0a\", \"pancake_drive_workflow.png\", 114761)"
            ]
          },
          "metadata": {}
        }
      ]
    },
    {
      "cell_type": "code",
      "source": [
        "from graphviz import Digraph\n",
        "\n",
        "# Create a new graph object\n",
        "pancake_chart = Digraph('LionsClubPancakeDrive', format='png')\n",
        "\n",
        "# Initiative Level\n",
        "pancake_chart.node('Initiative', 'Lions Club Pancake Drive Project\\n(Initiative)', shape='ellipse', style='filled', color='lightblue')\n",
        "\n",
        "# Epics\n",
        "pancake_chart.node('BI', 'Business Intelligence (BI)\\n(Epic)', shape='box', style='filled', color='blue', fontcolor='white')\n",
        "pancake_chart.node('DS', 'Data Services\\n(Epic)', shape='box', style='filled', color='green', fontcolor='white')\n",
        "\n",
        "# Connect Initiative to Epics\n",
        "pancake_chart.edge('Initiative', 'BI')\n",
        "pancake_chart.edge('Initiative', 'DS')\n",
        "\n",
        "# Stories under BI\n",
        "pancake_chart.node('MixPancake', 'Prepare Pancake Mixture\\n(Story)', shape='box', style='filled', color='purple', fontcolor='white')\n",
        "pancake_chart.node('InventoryProteins', 'Inventory All Proteins\\n(Story)', shape='box', style='filled', color='purple', fontcolor='white')\n",
        "\n",
        "# Connect BI to Stories\n",
        "pancake_chart.edge('BI', 'MixPancake')\n",
        "pancake_chart.edge('BI', 'InventoryProteins')\n",
        "\n",
        "# Sub-Tasks under BI Stories\n",
        "pancake_chart.node('Diana', 'Diana:\\nMix Ingredients\\n(Sub-Task)', shape='plaintext')\n",
        "pancake_chart.node('Josh', 'Josh:\\nFill Syrup Bottles\\n(Sub-Task)', shape='plaintext')\n",
        "pancake_chart.node('Mario', 'Mario:\\nPrep Griddle\\n(Sub-Task)', shape='plaintext')\n",
        "\n",
        "# Connect Prepare Pancake Mixture to Sub-Tasks\n",
        "pancake_chart.edge('MixPancake', 'Diana')\n",
        "pancake_chart.edge('MixPancake', 'Josh')\n",
        "pancake_chart.edge('MixPancake', 'Mario')\n",
        "\n",
        "# Stories under DS\n",
        "pancake_chart.node('HeatButter', 'Heat Butter and Prep Griddle\\n(Story)', shape='box', style='filled', color='orange', fontcolor='white')\n",
        "pancake_chart.node('PortionDough', 'Portion Dough for Biscuits\\n(Story)', shape='box', style='filled', color='orange', fontcolor='white')\n",
        "\n",
        "# Connect DS to Stories\n",
        "pancake_chart.edge('DS', 'HeatButter')\n",
        "pancake_chart.edge('DS', 'PortionDough')\n",
        "\n",
        "# Sub-Tasks under DS Stories\n",
        "pancake_chart.node('Patrick', 'Patrick:\\nHeat Butter\\n(Sub-Task)', shape='plaintext')\n",
        "pancake_chart.node('Mindy', 'Mindy:\\nWipe Counters\\n(Sub-Task)', shape='plaintext')\n",
        "\n",
        "# Connect Heat Butter and Prep Griddle to Sub-Tasks\n",
        "pancake_chart.edge('HeatButter', 'Patrick')\n",
        "pancake_chart.edge('HeatButter', 'Mindy')\n",
        "\n",
        "# Bugs and Parallel Tasks\n",
        "pancake_chart.node('Bugs', 'Fix Recipe Error\\n(Bug)', shape='box', style='filled', color='yellow', fontcolor='black')\n",
        "pancake_chart.edge('HeatButter', 'Bugs', style='dotted')\n",
        "\n",
        "# Versions/Releases (Optional Parallel Structure)\n",
        "pancake_chart.node('Releases', 'Release Pancake Batch 1.0.0\\n(Version)', shape='box', style='filled', color='teal', fontcolor='white')\n",
        "pancake_chart.edge('BI', 'Releases')\n",
        "pancake_chart.edge('DS', 'Releases')\n",
        "\n",
        "# Render the diagram\n",
        "pancake_chart.render('pancake_drive_hierarchy', view=True)\n"
      ],
      "metadata": {
        "colab": {
          "base_uri": "https://localhost:8080/",
          "height": 36
        },
        "id": "96S1q7XVMpf0",
        "outputId": "a2a25b80-e0bd-4d7f-efc3-5e8ab7644b36"
      },
      "execution_count": null,
      "outputs": [
        {
          "output_type": "execute_result",
          "data": {
            "text/plain": [
              "'pancake_drive_hierarchy.png'"
            ],
            "application/vnd.google.colaboratory.intrinsic+json": {
              "type": "string"
            }
          },
          "metadata": {},
          "execution_count": 20
        }
      ]
    },
    {
      "cell_type": "code",
      "source": [
        "from google.colab import files\n",
        "files.download('pancake_drive_hierarchy.png')"
      ],
      "metadata": {
        "colab": {
          "base_uri": "https://localhost:8080/",
          "height": 17
        },
        "id": "Wl9BWCYSOYEB",
        "outputId": "39680034-701d-4c77-ec0c-ff2175b82557"
      },
      "execution_count": null,
      "outputs": [
        {
          "output_type": "display_data",
          "data": {
            "text/plain": [
              "<IPython.core.display.Javascript object>"
            ],
            "application/javascript": [
              "\n",
              "    async function download(id, filename, size) {\n",
              "      if (!google.colab.kernel.accessAllowed) {\n",
              "        return;\n",
              "      }\n",
              "      const div = document.createElement('div');\n",
              "      const label = document.createElement('label');\n",
              "      label.textContent = `Downloading \"${filename}\": `;\n",
              "      div.appendChild(label);\n",
              "      const progress = document.createElement('progress');\n",
              "      progress.max = size;\n",
              "      div.appendChild(progress);\n",
              "      document.body.appendChild(div);\n",
              "\n",
              "      const buffers = [];\n",
              "      let downloaded = 0;\n",
              "\n",
              "      const channel = await google.colab.kernel.comms.open(id);\n",
              "      // Send a message to notify the kernel that we're ready.\n",
              "      channel.send({})\n",
              "\n",
              "      for await (const message of channel.messages) {\n",
              "        // Send a message to notify the kernel that we're ready.\n",
              "        channel.send({})\n",
              "        if (message.buffers) {\n",
              "          for (const buffer of message.buffers) {\n",
              "            buffers.push(buffer);\n",
              "            downloaded += buffer.byteLength;\n",
              "            progress.value = downloaded;\n",
              "          }\n",
              "        }\n",
              "      }\n",
              "      const blob = new Blob(buffers, {type: 'application/binary'});\n",
              "      const a = document.createElement('a');\n",
              "      a.href = window.URL.createObjectURL(blob);\n",
              "      a.download = filename;\n",
              "      div.appendChild(a);\n",
              "      a.click();\n",
              "      div.remove();\n",
              "    }\n",
              "  "
            ]
          },
          "metadata": {}
        },
        {
          "output_type": "display_data",
          "data": {
            "text/plain": [
              "<IPython.core.display.Javascript object>"
            ],
            "application/javascript": [
              "download(\"download_d2bc5602-5154-4f45-abcf-56ba3792eb4c\", \"pancake_drive_hierarchy.png\", 58028)"
            ]
          },
          "metadata": {}
        }
      ]
    },
    {
      "cell_type": "code",
      "source": [],
      "metadata": {
        "id": "nnjYaLQdOdm4"
      },
      "execution_count": null,
      "outputs": []
    }
  ]
}